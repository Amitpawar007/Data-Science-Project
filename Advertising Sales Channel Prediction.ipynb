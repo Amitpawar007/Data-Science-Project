{
 "cells": [
  {
   "cell_type": "markdown",
   "id": "a9f7db9d",
   "metadata": {},
   "source": [
    "## <font color=Red>Advertising Sales Channel Prediction</font>"
   ]
  },
  {
   "cell_type": "markdown",
   "id": "a7a14698",
   "metadata": {},
   "source": [
    "### Sales Channel Prediction Case Study"
   ]
  },
  {
   "cell_type": "markdown",
   "id": "e4ea9e1c",
   "metadata": {},
   "source": [
    "When a company enters a market, the distribution strategy and channel it uses are keys to its success in the market, as well as market know-how and customer knowledge and understanding. Because an effective distribution strategy under efficient supply-chain management opens doors for attaining competitive advantage and strong brand equity in the market, it is a component of the marketing mix that cannot be ignored ."
   ]
  },
  {
   "cell_type": "markdown",
   "id": "cff96671",
   "metadata": {},
   "source": [
    "The distribution strategy and the channel design have to be right the first time. The case study of Sales channel includes the detailed study of TV, radio and newspaper channel. The company has to select proper sales channel to predict the right sales channel to generate good revenue."
   ]
  },
  {
   "cell_type": "markdown",
   "id": "f45b91c9",
   "metadata": {},
   "source": [
    "## Importing Libraries"
   ]
  },
  {
   "cell_type": "code",
   "execution_count": 1,
   "id": "381abe02",
   "metadata": {},
   "outputs": [],
   "source": [
    "import numpy as np\n",
    "import pandas as pd\n",
    "import scipy\n",
    "import sklearn\n",
    "import seaborn as sns\n",
    "import matplotlib.pyplot as plt\n",
    "import warnings\n",
    "from pylab import rcParams  # for plotting box plot, to check outliers\n",
    "warnings.filterwarnings('ignore')\n",
    "from sklearn.preprocessing import LabelEncoder\n",
    "from sklearn.preprocessing import StandardScaler  # for scaling"
   ]
  },
  {
   "cell_type": "code",
   "execution_count": 2,
   "id": "81f1ad6c",
   "metadata": {},
   "outputs": [],
   "source": [
    "# For handling outliers\n",
    "# importing required libraries\n",
    "from scipy import stats\n",
    "import statsmodels.api as sm\n",
    "from statsmodels.stats.outliers_influence import variance_inflation_factor\n",
    "from scipy.stats import zscore"
   ]
  },
  {
   "cell_type": "code",
   "execution_count": 3,
   "id": "39dd30ab",
   "metadata": {},
   "outputs": [],
   "source": [
    "# For machine learning and finding \n",
    "from sklearn.linear_model import LinearRegression\n",
    "from sklearn.metrics import mean_squared_error, mean_absolute_error,r2_score\n",
    "from sklearn.model_selection import train_test_split\n",
    "from sklearn.model_selection import cross_val_score"
   ]
  },
  {
   "cell_type": "markdown",
   "id": "21713585",
   "metadata": {},
   "source": [
    "## Reading data frame and understanding data"
   ]
  },
  {
   "cell_type": "code",
   "execution_count": 4,
   "id": "cc4e1df6",
   "metadata": {},
   "outputs": [],
   "source": [
    "df = pd.read_csv('Advertising.csv')"
   ]
  },
  {
   "cell_type": "code",
   "execution_count": 5,
   "id": "74adf7e0",
   "metadata": {},
   "outputs": [
    {
     "data": {
      "text/html": [
       "<div>\n",
       "<style scoped>\n",
       "    .dataframe tbody tr th:only-of-type {\n",
       "        vertical-align: middle;\n",
       "    }\n",
       "\n",
       "    .dataframe tbody tr th {\n",
       "        vertical-align: top;\n",
       "    }\n",
       "\n",
       "    .dataframe thead th {\n",
       "        text-align: right;\n",
       "    }\n",
       "</style>\n",
       "<table border=\"1\" class=\"dataframe\">\n",
       "  <thead>\n",
       "    <tr style=\"text-align: right;\">\n",
       "      <th></th>\n",
       "      <th>Unnamed: 0</th>\n",
       "      <th>TV</th>\n",
       "      <th>radio</th>\n",
       "      <th>newspaper</th>\n",
       "      <th>sales</th>\n",
       "    </tr>\n",
       "  </thead>\n",
       "  <tbody>\n",
       "    <tr>\n",
       "      <th>0</th>\n",
       "      <td>1</td>\n",
       "      <td>230.1</td>\n",
       "      <td>37.8</td>\n",
       "      <td>69.2</td>\n",
       "      <td>22.1</td>\n",
       "    </tr>\n",
       "    <tr>\n",
       "      <th>1</th>\n",
       "      <td>2</td>\n",
       "      <td>44.5</td>\n",
       "      <td>39.3</td>\n",
       "      <td>45.1</td>\n",
       "      <td>10.4</td>\n",
       "    </tr>\n",
       "    <tr>\n",
       "      <th>2</th>\n",
       "      <td>3</td>\n",
       "      <td>17.2</td>\n",
       "      <td>45.9</td>\n",
       "      <td>69.3</td>\n",
       "      <td>9.3</td>\n",
       "    </tr>\n",
       "    <tr>\n",
       "      <th>3</th>\n",
       "      <td>4</td>\n",
       "      <td>151.5</td>\n",
       "      <td>41.3</td>\n",
       "      <td>58.5</td>\n",
       "      <td>18.5</td>\n",
       "    </tr>\n",
       "    <tr>\n",
       "      <th>4</th>\n",
       "      <td>5</td>\n",
       "      <td>180.8</td>\n",
       "      <td>10.8</td>\n",
       "      <td>58.4</td>\n",
       "      <td>12.9</td>\n",
       "    </tr>\n",
       "  </tbody>\n",
       "</table>\n",
       "</div>"
      ],
      "text/plain": [
       "   Unnamed: 0     TV  radio  newspaper  sales\n",
       "0           1  230.1   37.8       69.2   22.1\n",
       "1           2   44.5   39.3       45.1   10.4\n",
       "2           3   17.2   45.9       69.3    9.3\n",
       "3           4  151.5   41.3       58.5   18.5\n",
       "4           5  180.8   10.8       58.4   12.9"
      ]
     },
     "execution_count": 5,
     "metadata": {},
     "output_type": "execute_result"
    }
   ],
   "source": [
    "df.head()"
   ]
  },
  {
   "cell_type": "code",
   "execution_count": 6,
   "id": "73e46a42",
   "metadata": {},
   "outputs": [
    {
     "data": {
      "text/html": [
       "<div>\n",
       "<style scoped>\n",
       "    .dataframe tbody tr th:only-of-type {\n",
       "        vertical-align: middle;\n",
       "    }\n",
       "\n",
       "    .dataframe tbody tr th {\n",
       "        vertical-align: top;\n",
       "    }\n",
       "\n",
       "    .dataframe thead th {\n",
       "        text-align: right;\n",
       "    }\n",
       "</style>\n",
       "<table border=\"1\" class=\"dataframe\">\n",
       "  <thead>\n",
       "    <tr style=\"text-align: right;\">\n",
       "      <th></th>\n",
       "      <th>Unnamed: 0</th>\n",
       "      <th>TV</th>\n",
       "      <th>radio</th>\n",
       "      <th>newspaper</th>\n",
       "      <th>sales</th>\n",
       "    </tr>\n",
       "  </thead>\n",
       "  <tbody>\n",
       "    <tr>\n",
       "      <th>195</th>\n",
       "      <td>196</td>\n",
       "      <td>38.2</td>\n",
       "      <td>3.7</td>\n",
       "      <td>13.8</td>\n",
       "      <td>7.6</td>\n",
       "    </tr>\n",
       "    <tr>\n",
       "      <th>196</th>\n",
       "      <td>197</td>\n",
       "      <td>94.2</td>\n",
       "      <td>4.9</td>\n",
       "      <td>8.1</td>\n",
       "      <td>9.7</td>\n",
       "    </tr>\n",
       "    <tr>\n",
       "      <th>197</th>\n",
       "      <td>198</td>\n",
       "      <td>177.0</td>\n",
       "      <td>9.3</td>\n",
       "      <td>6.4</td>\n",
       "      <td>12.8</td>\n",
       "    </tr>\n",
       "    <tr>\n",
       "      <th>198</th>\n",
       "      <td>199</td>\n",
       "      <td>283.6</td>\n",
       "      <td>42.0</td>\n",
       "      <td>66.2</td>\n",
       "      <td>25.5</td>\n",
       "    </tr>\n",
       "    <tr>\n",
       "      <th>199</th>\n",
       "      <td>200</td>\n",
       "      <td>232.1</td>\n",
       "      <td>8.6</td>\n",
       "      <td>8.7</td>\n",
       "      <td>13.4</td>\n",
       "    </tr>\n",
       "  </tbody>\n",
       "</table>\n",
       "</div>"
      ],
      "text/plain": [
       "     Unnamed: 0     TV  radio  newspaper  sales\n",
       "195         196   38.2    3.7       13.8    7.6\n",
       "196         197   94.2    4.9        8.1    9.7\n",
       "197         198  177.0    9.3        6.4   12.8\n",
       "198         199  283.6   42.0       66.2   25.5\n",
       "199         200  232.1    8.6        8.7   13.4"
      ]
     },
     "execution_count": 6,
     "metadata": {},
     "output_type": "execute_result"
    }
   ],
   "source": [
    "df.tail()"
   ]
  },
  {
   "cell_type": "code",
   "execution_count": 7,
   "id": "fd6bdfed",
   "metadata": {},
   "outputs": [
    {
     "data": {
      "text/html": [
       "<div>\n",
       "<style scoped>\n",
       "    .dataframe tbody tr th:only-of-type {\n",
       "        vertical-align: middle;\n",
       "    }\n",
       "\n",
       "    .dataframe tbody tr th {\n",
       "        vertical-align: top;\n",
       "    }\n",
       "\n",
       "    .dataframe thead th {\n",
       "        text-align: right;\n",
       "    }\n",
       "</style>\n",
       "<table border=\"1\" class=\"dataframe\">\n",
       "  <thead>\n",
       "    <tr style=\"text-align: right;\">\n",
       "      <th></th>\n",
       "      <th>Unnamed: 0</th>\n",
       "      <th>TV</th>\n",
       "      <th>radio</th>\n",
       "      <th>newspaper</th>\n",
       "      <th>sales</th>\n",
       "    </tr>\n",
       "  </thead>\n",
       "  <tbody>\n",
       "    <tr>\n",
       "      <th>134</th>\n",
       "      <td>135</td>\n",
       "      <td>36.9</td>\n",
       "      <td>38.6</td>\n",
       "      <td>65.6</td>\n",
       "      <td>10.8</td>\n",
       "    </tr>\n",
       "  </tbody>\n",
       "</table>\n",
       "</div>"
      ],
      "text/plain": [
       "     Unnamed: 0    TV  radio  newspaper  sales\n",
       "134         135  36.9   38.6       65.6   10.8"
      ]
     },
     "execution_count": 7,
     "metadata": {},
     "output_type": "execute_result"
    }
   ],
   "source": [
    "df.sample()"
   ]
  },
  {
   "cell_type": "code",
   "execution_count": 8,
   "id": "cf5f1294",
   "metadata": {},
   "outputs": [],
   "source": [
    "df.drop('Unnamed: 0', axis=1, inplace=True)"
   ]
  },
  {
   "cell_type": "code",
   "execution_count": 9,
   "id": "a0fbe835",
   "metadata": {},
   "outputs": [
    {
     "data": {
      "text/html": [
       "<div>\n",
       "<style scoped>\n",
       "    .dataframe tbody tr th:only-of-type {\n",
       "        vertical-align: middle;\n",
       "    }\n",
       "\n",
       "    .dataframe tbody tr th {\n",
       "        vertical-align: top;\n",
       "    }\n",
       "\n",
       "    .dataframe thead th {\n",
       "        text-align: right;\n",
       "    }\n",
       "</style>\n",
       "<table border=\"1\" class=\"dataframe\">\n",
       "  <thead>\n",
       "    <tr style=\"text-align: right;\">\n",
       "      <th></th>\n",
       "      <th>TV</th>\n",
       "      <th>radio</th>\n",
       "      <th>newspaper</th>\n",
       "      <th>sales</th>\n",
       "    </tr>\n",
       "  </thead>\n",
       "  <tbody>\n",
       "    <tr>\n",
       "      <th>0</th>\n",
       "      <td>230.1</td>\n",
       "      <td>37.8</td>\n",
       "      <td>69.2</td>\n",
       "      <td>22.1</td>\n",
       "    </tr>\n",
       "    <tr>\n",
       "      <th>1</th>\n",
       "      <td>44.5</td>\n",
       "      <td>39.3</td>\n",
       "      <td>45.1</td>\n",
       "      <td>10.4</td>\n",
       "    </tr>\n",
       "    <tr>\n",
       "      <th>2</th>\n",
       "      <td>17.2</td>\n",
       "      <td>45.9</td>\n",
       "      <td>69.3</td>\n",
       "      <td>9.3</td>\n",
       "    </tr>\n",
       "    <tr>\n",
       "      <th>3</th>\n",
       "      <td>151.5</td>\n",
       "      <td>41.3</td>\n",
       "      <td>58.5</td>\n",
       "      <td>18.5</td>\n",
       "    </tr>\n",
       "    <tr>\n",
       "      <th>4</th>\n",
       "      <td>180.8</td>\n",
       "      <td>10.8</td>\n",
       "      <td>58.4</td>\n",
       "      <td>12.9</td>\n",
       "    </tr>\n",
       "    <tr>\n",
       "      <th>...</th>\n",
       "      <td>...</td>\n",
       "      <td>...</td>\n",
       "      <td>...</td>\n",
       "      <td>...</td>\n",
       "    </tr>\n",
       "    <tr>\n",
       "      <th>195</th>\n",
       "      <td>38.2</td>\n",
       "      <td>3.7</td>\n",
       "      <td>13.8</td>\n",
       "      <td>7.6</td>\n",
       "    </tr>\n",
       "    <tr>\n",
       "      <th>196</th>\n",
       "      <td>94.2</td>\n",
       "      <td>4.9</td>\n",
       "      <td>8.1</td>\n",
       "      <td>9.7</td>\n",
       "    </tr>\n",
       "    <tr>\n",
       "      <th>197</th>\n",
       "      <td>177.0</td>\n",
       "      <td>9.3</td>\n",
       "      <td>6.4</td>\n",
       "      <td>12.8</td>\n",
       "    </tr>\n",
       "    <tr>\n",
       "      <th>198</th>\n",
       "      <td>283.6</td>\n",
       "      <td>42.0</td>\n",
       "      <td>66.2</td>\n",
       "      <td>25.5</td>\n",
       "    </tr>\n",
       "    <tr>\n",
       "      <th>199</th>\n",
       "      <td>232.1</td>\n",
       "      <td>8.6</td>\n",
       "      <td>8.7</td>\n",
       "      <td>13.4</td>\n",
       "    </tr>\n",
       "  </tbody>\n",
       "</table>\n",
       "<p>200 rows × 4 columns</p>\n",
       "</div>"
      ],
      "text/plain": [
       "        TV  radio  newspaper  sales\n",
       "0    230.1   37.8       69.2   22.1\n",
       "1     44.5   39.3       45.1   10.4\n",
       "2     17.2   45.9       69.3    9.3\n",
       "3    151.5   41.3       58.5   18.5\n",
       "4    180.8   10.8       58.4   12.9\n",
       "..     ...    ...        ...    ...\n",
       "195   38.2    3.7       13.8    7.6\n",
       "196   94.2    4.9        8.1    9.7\n",
       "197  177.0    9.3        6.4   12.8\n",
       "198  283.6   42.0       66.2   25.5\n",
       "199  232.1    8.6        8.7   13.4\n",
       "\n",
       "[200 rows x 4 columns]"
      ]
     },
     "execution_count": 9,
     "metadata": {},
     "output_type": "execute_result"
    }
   ],
   "source": [
    "df"
   ]
  },
  {
   "cell_type": "code",
   "execution_count": 10,
   "id": "02ac8ecc",
   "metadata": {},
   "outputs": [
    {
     "data": {
      "text/plain": [
       "TV           float64\n",
       "radio        float64\n",
       "newspaper    float64\n",
       "sales        float64\n",
       "dtype: object"
      ]
     },
     "execution_count": 10,
     "metadata": {},
     "output_type": "execute_result"
    }
   ],
   "source": [
    "df.dtypes"
   ]
  },
  {
   "cell_type": "code",
   "execution_count": 11,
   "id": "cf4491a4",
   "metadata": {},
   "outputs": [
    {
     "data": {
      "text/html": [
       "<div>\n",
       "<style scoped>\n",
       "    .dataframe tbody tr th:only-of-type {\n",
       "        vertical-align: middle;\n",
       "    }\n",
       "\n",
       "    .dataframe tbody tr th {\n",
       "        vertical-align: top;\n",
       "    }\n",
       "\n",
       "    .dataframe thead th {\n",
       "        text-align: right;\n",
       "    }\n",
       "</style>\n",
       "<table border=\"1\" class=\"dataframe\">\n",
       "  <thead>\n",
       "    <tr style=\"text-align: right;\">\n",
       "      <th></th>\n",
       "      <th>TV</th>\n",
       "      <th>radio</th>\n",
       "      <th>newspaper</th>\n",
       "      <th>sales</th>\n",
       "    </tr>\n",
       "  </thead>\n",
       "  <tbody>\n",
       "    <tr>\n",
       "      <th>count</th>\n",
       "      <td>200.000000</td>\n",
       "      <td>200.000000</td>\n",
       "      <td>200.000000</td>\n",
       "      <td>200.000000</td>\n",
       "    </tr>\n",
       "    <tr>\n",
       "      <th>mean</th>\n",
       "      <td>147.042500</td>\n",
       "      <td>23.264000</td>\n",
       "      <td>30.554000</td>\n",
       "      <td>14.022500</td>\n",
       "    </tr>\n",
       "    <tr>\n",
       "      <th>std</th>\n",
       "      <td>85.854236</td>\n",
       "      <td>14.846809</td>\n",
       "      <td>21.778621</td>\n",
       "      <td>5.217457</td>\n",
       "    </tr>\n",
       "    <tr>\n",
       "      <th>min</th>\n",
       "      <td>0.700000</td>\n",
       "      <td>0.000000</td>\n",
       "      <td>0.300000</td>\n",
       "      <td>1.600000</td>\n",
       "    </tr>\n",
       "    <tr>\n",
       "      <th>25%</th>\n",
       "      <td>74.375000</td>\n",
       "      <td>9.975000</td>\n",
       "      <td>12.750000</td>\n",
       "      <td>10.375000</td>\n",
       "    </tr>\n",
       "    <tr>\n",
       "      <th>50%</th>\n",
       "      <td>149.750000</td>\n",
       "      <td>22.900000</td>\n",
       "      <td>25.750000</td>\n",
       "      <td>12.900000</td>\n",
       "    </tr>\n",
       "    <tr>\n",
       "      <th>75%</th>\n",
       "      <td>218.825000</td>\n",
       "      <td>36.525000</td>\n",
       "      <td>45.100000</td>\n",
       "      <td>17.400000</td>\n",
       "    </tr>\n",
       "    <tr>\n",
       "      <th>max</th>\n",
       "      <td>296.400000</td>\n",
       "      <td>49.600000</td>\n",
       "      <td>114.000000</td>\n",
       "      <td>27.000000</td>\n",
       "    </tr>\n",
       "  </tbody>\n",
       "</table>\n",
       "</div>"
      ],
      "text/plain": [
       "               TV       radio   newspaper       sales\n",
       "count  200.000000  200.000000  200.000000  200.000000\n",
       "mean   147.042500   23.264000   30.554000   14.022500\n",
       "std     85.854236   14.846809   21.778621    5.217457\n",
       "min      0.700000    0.000000    0.300000    1.600000\n",
       "25%     74.375000    9.975000   12.750000   10.375000\n",
       "50%    149.750000   22.900000   25.750000   12.900000\n",
       "75%    218.825000   36.525000   45.100000   17.400000\n",
       "max    296.400000   49.600000  114.000000   27.000000"
      ]
     },
     "execution_count": 11,
     "metadata": {},
     "output_type": "execute_result"
    }
   ],
   "source": [
    "df.describe()"
   ]
  },
  {
   "cell_type": "markdown",
   "id": "bd3882d9",
   "metadata": {},
   "source": [
    "#### There is huge spending on TV advertisement and minimum on radio"
   ]
  },
  {
   "cell_type": "markdown",
   "id": "3228c473",
   "metadata": {},
   "source": [
    "# Data Inspection"
   ]
  },
  {
   "cell_type": "code",
   "execution_count": 12,
   "id": "625b0b37",
   "metadata": {},
   "outputs": [
    {
     "data": {
      "text/plain": [
       "(200, 4)"
      ]
     },
     "execution_count": 12,
     "metadata": {},
     "output_type": "execute_result"
    }
   ],
   "source": [
    "df.shape"
   ]
  },
  {
   "cell_type": "code",
   "execution_count": 13,
   "id": "f3088117",
   "metadata": {},
   "outputs": [
    {
     "name": "stdout",
     "output_type": "stream",
     "text": [
      "0\n"
     ]
    }
   ],
   "source": [
    "duplicated_values = df.duplicated()\n",
    "print(duplicated_values.sum())"
   ]
  },
  {
   "cell_type": "code",
   "execution_count": 14,
   "id": "13d51cde",
   "metadata": {},
   "outputs": [
    {
     "data": {
      "text/plain": [
       "TV           190\n",
       "radio        167\n",
       "newspaper    172\n",
       "sales        121\n",
       "dtype: int64"
      ]
     },
     "execution_count": 14,
     "metadata": {},
     "output_type": "execute_result"
    }
   ],
   "source": [
    "# check unique values in dataset\n",
    "df.apply(lambda x: len(x.unique()))"
   ]
  },
  {
   "cell_type": "markdown",
   "id": "05b38d61",
   "metadata": {},
   "source": []
  },
  {
   "cell_type": "markdown",
   "id": "126a55ac",
   "metadata": {},
   "source": [
    "## Exploratory Data Anaylysis (Data Cleaning)"
   ]
  },
  {
   "cell_type": "markdown",
   "id": "cf8e1923",
   "metadata": {},
   "source": [
    "## Univariate analysis"
   ]
  },
  {
   "cell_type": "markdown",
   "id": "df72145e",
   "metadata": {},
   "source": [
    "### Scatterplot"
   ]
  },
  {
   "cell_type": "code",
   "execution_count": 15,
   "id": "11f55087",
   "metadata": {},
   "outputs": [
    {
     "data": {
      "text/plain": [
       "<seaborn.axisgrid.PairGrid at 0x29581bf0fd0>"
      ]
     },
     "execution_count": 15,
     "metadata": {},
     "output_type": "execute_result"
    },
    {
     "data": {
      "image/png": "[encoded data removed]",
      "text/plain": [
       "<Figure size 720x720 with 20 Axes>"
      ]
     },
     "metadata": {
      "needs_background": "light"
     },
     "output_type": "display_data"
    }
   ],
   "source": [
    "sns.pairplot(df)"
   ]
  },
  {
   "cell_type": "markdown",
   "id": "f0493340",
   "metadata": {},
   "source": [
    "## Observations:"
   ]
  },
  {
   "cell_type": "markdown",
   "id": "816e6ece",
   "metadata": {},
   "source": [
    "\n",
    "#### From above results it is clear that few of the independant variables have positive relationship with target variable"
   ]
  },
  {
   "cell_type": "markdown",
   "id": "e0745376",
   "metadata": {},
   "source": [
    "## Checking null values"
   ]
  },
  {
   "cell_type": "code",
   "execution_count": 16,
   "id": "8f6caf85",
   "metadata": {},
   "outputs": [
    {
     "data": {
      "text/plain": [
       "TV           0\n",
       "radio        0\n",
       "newspaper    0\n",
       "sales        0\n",
       "dtype: int64"
      ]
     },
     "execution_count": 16,
     "metadata": {},
     "output_type": "execute_result"
    }
   ],
   "source": [
    "df.isnull().sum()"
   ]
  },
  {
   "cell_type": "code",
   "execution_count": 17,
   "id": "6133c235",
   "metadata": {},
   "outputs": [
    {
     "name": "stdout",
     "output_type": "stream",
     "text": [
      "Total Number of missing values in data set are 0\n"
     ]
    }
   ],
   "source": [
    "print('Total Number of missing values in data set are', df.isnull().sum().sum())"
   ]
  },
  {
   "cell_type": "code",
   "execution_count": 18,
   "id": "ba6a12ab",
   "metadata": {},
   "outputs": [
    {
     "data": {
      "text/html": [
       "<div>\n",
       "<style scoped>\n",
       "    .dataframe tbody tr th:only-of-type {\n",
       "        vertical-align: middle;\n",
       "    }\n",
       "\n",
       "    .dataframe tbody tr th {\n",
       "        vertical-align: top;\n",
       "    }\n",
       "\n",
       "    .dataframe thead th {\n",
       "        text-align: right;\n",
       "    }\n",
       "</style>\n",
       "<table border=\"1\" class=\"dataframe\">\n",
       "  <thead>\n",
       "    <tr style=\"text-align: right;\">\n",
       "      <th></th>\n",
       "      <th>count</th>\n",
       "      <th>mean</th>\n",
       "      <th>std</th>\n",
       "      <th>min</th>\n",
       "      <th>25%</th>\n",
       "      <th>50%</th>\n",
       "      <th>75%</th>\n",
       "      <th>max</th>\n",
       "    </tr>\n",
       "  </thead>\n",
       "  <tbody>\n",
       "    <tr>\n",
       "      <th>TV</th>\n",
       "      <td>200.0</td>\n",
       "      <td>147.0425</td>\n",
       "      <td>85.854236</td>\n",
       "      <td>0.7</td>\n",
       "      <td>74.375</td>\n",
       "      <td>149.75</td>\n",
       "      <td>218.825</td>\n",
       "      <td>296.4</td>\n",
       "    </tr>\n",
       "    <tr>\n",
       "      <th>radio</th>\n",
       "      <td>200.0</td>\n",
       "      <td>23.2640</td>\n",
       "      <td>14.846809</td>\n",
       "      <td>0.0</td>\n",
       "      <td>9.975</td>\n",
       "      <td>22.90</td>\n",
       "      <td>36.525</td>\n",
       "      <td>49.6</td>\n",
       "    </tr>\n",
       "    <tr>\n",
       "      <th>newspaper</th>\n",
       "      <td>200.0</td>\n",
       "      <td>30.5540</td>\n",
       "      <td>21.778621</td>\n",
       "      <td>0.3</td>\n",
       "      <td>12.750</td>\n",
       "      <td>25.75</td>\n",
       "      <td>45.100</td>\n",
       "      <td>114.0</td>\n",
       "    </tr>\n",
       "    <tr>\n",
       "      <th>sales</th>\n",
       "      <td>200.0</td>\n",
       "      <td>14.0225</td>\n",
       "      <td>5.217457</td>\n",
       "      <td>1.6</td>\n",
       "      <td>10.375</td>\n",
       "      <td>12.90</td>\n",
       "      <td>17.400</td>\n",
       "      <td>27.0</td>\n",
       "    </tr>\n",
       "  </tbody>\n",
       "</table>\n",
       "</div>"
      ],
      "text/plain": [
       "           count      mean        std  min     25%     50%      75%    max\n",
       "TV         200.0  147.0425  85.854236  0.7  74.375  149.75  218.825  296.4\n",
       "radio      200.0   23.2640  14.846809  0.0   9.975   22.90   36.525   49.6\n",
       "newspaper  200.0   30.5540  21.778621  0.3  12.750   25.75   45.100  114.0\n",
       "sales      200.0   14.0225   5.217457  1.6  10.375   12.90   17.400   27.0"
      ]
     },
     "execution_count": 18,
     "metadata": {},
     "output_type": "execute_result"
    }
   ],
   "source": [
    "df.describe().T"
   ]
  },
  {
   "cell_type": "markdown",
   "id": "1e05a9c8",
   "metadata": {},
   "source": [
    "## Univariate analysis"
   ]
  },
  {
   "cell_type": "markdown",
   "id": "ad450513",
   "metadata": {},
   "source": [
    "### Data distribtion and understanding skewness from bar plots"
   ]
  },
  {
   "cell_type": "code",
   "execution_count": 19,
   "id": "9be64bd9",
   "metadata": {
    "scrolled": false
   },
   "outputs": [
    {
     "data": {
      "image/png": "[encoded data removed]",
      "text/plain": [
       "<Figure size 1080x576 with 1 Axes>"
      ]
     },
     "metadata": {
      "needs_background": "light"
     },
     "output_type": "display_data"
    },
    {
     "data": {
      "image/png": "[encoded data removed]",
      "text/plain": [
       "<Figure size 1080x576 with 1 Axes>"
      ]
     },
     "metadata": {
      "needs_background": "light"
     },
     "output_type": "display_data"
    },
    {
     "data": {
      "image/png": "[encoded data removed]",
      "text/plain": [
       "<Figure size 1080x576 with 1 Axes>"
      ]
     },
     "metadata": {
      "needs_background": "light"
     },
     "output_type": "display_data"
    },
    {
     "data": {
      "image/png": "[encoded data removed]",
      "text/plain": [
       "<Figure size 1080x576 with 1 Axes>"
      ]
     },
     "metadata": {
      "needs_background": "light"
     },
     "output_type": "display_data"
    }
   ],
   "source": [
    "for i in df.columns[0:]:                                 \n",
    "    plt.figure(figsize = (15, 8))\n",
    "    sns.distplot(df[i], bins = 10,color='b')\n",
    "    plt.title(i)\n",
    "    plt.show()"
   ]
  },
  {
   "cell_type": "code",
   "execution_count": 20,
   "id": "c1ca8228",
   "metadata": {},
   "outputs": [
    {
     "data": {
      "text/plain": [
       "TV          -0.069853\n",
       "radio        0.094175\n",
       "newspaper    0.894720\n",
       "sales        0.407571\n",
       "dtype: float64"
      ]
     },
     "execution_count": 20,
     "metadata": {},
     "output_type": "execute_result"
    }
   ],
   "source": [
    "df.skew() #Checking skewness of the data"
   ]
  },
  {
   "cell_type": "markdown",
   "id": "96455d2c",
   "metadata": {},
   "source": [
    "Observations from graphs:\n",
    "\n",
    "The TV and radio graphs are more evenly spread\n",
    "\n",
    "The newspaper graph experiences a steep decline, implying not much money is spent on advertising through newspaper\n",
    "\n",
    "The sales graph is bell shaped"
   ]
  },
  {
   "cell_type": "code",
   "execution_count": 21,
   "id": "96cb4a93",
   "metadata": {},
   "outputs": [
    {
     "data": {
      "text/plain": [
       "<AxesSubplot:>"
      ]
     },
     "execution_count": 21,
     "metadata": {},
     "output_type": "execute_result"
    },
    {
     "data": {
      "image/png": "[encoded data removed]",
      "text/plain": [
       "<Figure size 2400x900 with 2 Axes>"
      ]
     },
     "metadata": {
      "needs_background": "light"
     },
     "output_type": "display_data"
    }
   ],
   "source": [
    "# Calculate correlations\n",
    "\n",
    "plt.figure(figsize=(16,6), dpi=150)\n",
    "\n",
    "#heatmap\n",
    "sns.heatmap(df.corr(), annot=True)"
   ]
  },
  {
   "cell_type": "markdown",
   "id": "d9a8ffc5",
   "metadata": {},
   "source": [
    "# Bivariate analysis"
   ]
  },
  {
   "cell_type": "code",
   "execution_count": 22,
   "id": "d9aedb4a",
   "metadata": {
    "scrolled": true
   },
   "outputs": [
    {
     "data": {
      "image/png": "[encoded data removed]",
      "text/plain": [
       "<Figure size 1080x576 with 1 Axes>"
      ]
     },
     "metadata": {
      "needs_background": "light"
     },
     "output_type": "display_data"
    },
    {
     "data": {
      "image/png": "[encoded data removed]",
      "text/plain": [
       "<Figure size 1080x576 with 1 Axes>"
      ]
     },
     "metadata": {
      "needs_background": "light"
     },
     "output_type": "display_data"
    },
    {
     "data": {
      "image/png": "[encoded data removed]",
      "text/plain": [
       "<Figure size 1080x576 with 1 Axes>"
      ]
     },
     "metadata": {
      "needs_background": "light"
     },
     "output_type": "display_data"
    }
   ],
   "source": [
    "for i in df.columns[0:-1]:                                          \n",
    "    plt.figure(figsize = (15, 8))\n",
    "    sns.regplot(df[i], df['sales'])\n",
    "    plt.title('Scatter Plot for Sales vs other attributes')\n",
    "    plt.xlabel(i)\n",
    "    plt.ylabel('Sales')\n",
    "    plt.show()"
   ]
  },
  {
   "cell_type": "markdown",
   "id": "9b6a0311",
   "metadata": {},
   "source": [
    " Observations from the graphs:\n",
    "\n",
    "There is a linear relation between TV and sales\n",
    "\n",
    "There is somewhat linear relation between radio and sales but the graph is more spread\n",
    "\n",
    "There doesn't seem to be a linear relation between sales and newspaper as graph is very spread."
   ]
  },
  {
   "cell_type": "markdown",
   "id": "3324a690",
   "metadata": {},
   "source": [
    "Observations from heatmap:\n",
    "\n",
    "As we can see from the heatmap, TV has highest correlation with sales with 0.78.\n",
    "\n",
    "Radio is also highly correlated with sales with 0.58.\n",
    "\n",
    "Newspaper has the lowest correlation with sales at 0.23, less than half the correlation sales have with radio.\n",
    "\n",
    "TV has very low correlation with other two columns (radio and newspaper) at 0.055 and 0.057 respectively."
   ]
  },
  {
   "cell_type": "markdown",
   "id": "ffbe8555",
   "metadata": {},
   "source": [
    "# Outliers "
   ]
  },
  {
   "cell_type": "code",
   "execution_count": 23,
   "id": "e63622ce",
   "metadata": {
    "scrolled": true
   },
   "outputs": [
    {
     "data": {
      "image/png": "[encoded data removed]",
      "text/plain": [
       "<Figure size 576x504 with 4 Axes>"
      ]
     },
     "metadata": {
      "needs_background": "light"
     },
     "output_type": "display_data"
    }
   ],
   "source": [
    "fig, ax = plt.subplots(ncols=4, nrows=1, figsize=(8,7))\n",
    "index = 0\n",
    "ax = ax.flatten()\n",
    "for col, value in df.items():\n",
    "    sns.boxplot(y=col, data=df, ax=ax[index], palette=\"plasma\")\n",
    "    index += 1\n",
    "plt.tight_layout(pad=0.2, w_pad=0.9, h_pad=5.0)\n",
    "plt.show()"
   ]
  },
  {
   "cell_type": "markdown",
   "id": "4fe84d1b",
   "metadata": {},
   "source": [
    "There are no outliers in TV and radio.\n",
    "\n",
    "As for newspaper there are only 2 outliers which can be ignored.\n",
    "\n",
    "As the dataset is very small, we must avoid removing values from the dataset."
   ]
  },
  {
   "cell_type": "code",
   "execution_count": 24,
   "id": "1a17257e",
   "metadata": {
    "scrolled": true
   },
   "outputs": [
    {
     "data": {
      "text/plain": [
       "TV          -0.069853\n",
       "radio        0.094175\n",
       "newspaper    0.894720\n",
       "sales        0.407571\n",
       "dtype: float64"
      ]
     },
     "execution_count": 24,
     "metadata": {},
     "output_type": "execute_result"
    }
   ],
   "source": [
    "df.skew()\n"
   ]
  },
  {
   "cell_type": "markdown",
   "id": "f5dcbc2e",
   "metadata": {},
   "source": [
    "Only newspaper has skewness higher than threshold value of 0.5."
   ]
  },
  {
   "cell_type": "markdown",
   "id": "14e30482",
   "metadata": {},
   "source": [
    "Skewness treated with log transformation."
   ]
  },
  {
   "cell_type": "code",
   "execution_count": 25,
   "id": "012bb414",
   "metadata": {},
   "outputs": [],
   "source": [
    "df['newspaper'] = np.log(df['newspaper'])"
   ]
  },
  {
   "cell_type": "markdown",
   "id": "1e80fd56",
   "metadata": {},
   "source": [
    "## Variance Infilation Factor"
   ]
  },
  {
   "cell_type": "code",
   "execution_count": 26,
   "id": "ebe2d540",
   "metadata": {},
   "outputs": [],
   "source": [
    "def calc_vif(x):\n",
    "    vif=pd.DataFrame()\n",
    "    vif[\"variables\"]=x.columns\n",
    "    vif[\"VIF FACTOR\"]=[variance_inflation_factor(x.values,i) for i in range(x.shape[1])]\n",
    "    return(vif)\n"
   ]
  },
  {
   "cell_type": "code",
   "execution_count": 28,
   "id": "22523812",
   "metadata": {},
   "outputs": [
    {
     "data": {
      "text/html": [
       "<div>\n",
       "<style scoped>\n",
       "    .dataframe tbody tr th:only-of-type {\n",
       "        vertical-align: middle;\n",
       "    }\n",
       "\n",
       "    .dataframe tbody tr th {\n",
       "        vertical-align: top;\n",
       "    }\n",
       "\n",
       "    .dataframe thead th {\n",
       "        text-align: right;\n",
       "    }\n",
       "</style>\n",
       "<table border=\"1\" class=\"dataframe\">\n",
       "  <thead>\n",
       "    <tr style=\"text-align: right;\">\n",
       "      <th></th>\n",
       "      <th>TV</th>\n",
       "      <th>radio</th>\n",
       "      <th>newspaper</th>\n",
       "      <th>sales</th>\n",
       "    </tr>\n",
       "  </thead>\n",
       "  <tbody>\n",
       "    <tr>\n",
       "      <th>0</th>\n",
       "      <td>0.969852</td>\n",
       "      <td>0.981522</td>\n",
       "      <td>1.196610</td>\n",
       "      <td>1.552053</td>\n",
       "    </tr>\n",
       "    <tr>\n",
       "      <th>1</th>\n",
       "      <td>1.197376</td>\n",
       "      <td>1.082808</td>\n",
       "      <td>0.755408</td>\n",
       "      <td>0.696046</td>\n",
       "    </tr>\n",
       "    <tr>\n",
       "      <th>2</th>\n",
       "      <td>1.516155</td>\n",
       "      <td>1.528463</td>\n",
       "      <td>1.198098</td>\n",
       "      <td>0.907406</td>\n",
       "    </tr>\n",
       "    <tr>\n",
       "      <th>3</th>\n",
       "      <td>0.052050</td>\n",
       "      <td>1.217855</td>\n",
       "      <td>1.023503</td>\n",
       "      <td>0.860330</td>\n",
       "    </tr>\n",
       "    <tr>\n",
       "      <th>4</th>\n",
       "      <td>0.394182</td>\n",
       "      <td>0.841614</td>\n",
       "      <td>1.021740</td>\n",
       "      <td>0.215683</td>\n",
       "    </tr>\n",
       "    <tr>\n",
       "      <th>...</th>\n",
       "      <td>...</td>\n",
       "      <td>...</td>\n",
       "      <td>...</td>\n",
       "      <td>...</td>\n",
       "    </tr>\n",
       "    <tr>\n",
       "      <th>195</th>\n",
       "      <td>1.270941</td>\n",
       "      <td>1.321031</td>\n",
       "      <td>0.464996</td>\n",
       "      <td>1.234053</td>\n",
       "    </tr>\n",
       "    <tr>\n",
       "      <th>196</th>\n",
       "      <td>0.617035</td>\n",
       "      <td>1.240003</td>\n",
       "      <td>1.014083</td>\n",
       "      <td>0.830548</td>\n",
       "    </tr>\n",
       "    <tr>\n",
       "      <th>197</th>\n",
       "      <td>0.349810</td>\n",
       "      <td>0.942899</td>\n",
       "      <td>1.256848</td>\n",
       "      <td>0.234898</td>\n",
       "    </tr>\n",
       "    <tr>\n",
       "      <th>198</th>\n",
       "      <td>1.594565</td>\n",
       "      <td>1.265121</td>\n",
       "      <td>1.150935</td>\n",
       "      <td>2.205347</td>\n",
       "    </tr>\n",
       "    <tr>\n",
       "      <th>199</th>\n",
       "      <td>0.993206</td>\n",
       "      <td>0.990165</td>\n",
       "      <td>0.940440</td>\n",
       "      <td>0.119610</td>\n",
       "    </tr>\n",
       "  </tbody>\n",
       "</table>\n",
       "<p>200 rows × 4 columns</p>\n",
       "</div>"
      ],
      "text/plain": [
       "           TV     radio  newspaper     sales\n",
       "0    0.969852  0.981522   1.196610  1.552053\n",
       "1    1.197376  1.082808   0.755408  0.696046\n",
       "2    1.516155  1.528463   1.198098  0.907406\n",
       "3    0.052050  1.217855   1.023503  0.860330\n",
       "4    0.394182  0.841614   1.021740  0.215683\n",
       "..        ...       ...        ...       ...\n",
       "195  1.270941  1.321031   0.464996  1.234053\n",
       "196  0.617035  1.240003   1.014083  0.830548\n",
       "197  0.349810  0.942899   1.256848  0.234898\n",
       "198  1.594565  1.265121   1.150935  2.205347\n",
       "199  0.993206  0.990165   0.940440  0.119610\n",
       "\n",
       "[200 rows x 4 columns]"
      ]
     },
     "execution_count": 28,
     "metadata": {},
     "output_type": "execute_result"
    }
   ],
   "source": [
    "z=np.abs(zscore(df))\n",
    "z"
   ]
  },
  {
   "cell_type": "code",
   "execution_count": 29,
   "id": "2d9d4c61",
   "metadata": {},
   "outputs": [
    {
     "name": "stdout",
     "output_type": "stream",
     "text": [
      "(array([ 8, 33, 65], dtype=int64), array([2, 2, 2], dtype=int64))\n"
     ]
    }
   ],
   "source": [
    "threshold=3\n",
    "print(np.where(z>3))"
   ]
  },
  {
   "cell_type": "code",
   "execution_count": 30,
   "id": "fc04e5ad",
   "metadata": {},
   "outputs": [
    {
     "ename": "SyntaxError",
     "evalue": "invalid syntax (Temp/ipykernel_4792/1756217840.py, line 1)",
     "output_type": "error",
     "traceback": [
      "\u001b[1;36m  File \u001b[1;32m\"C:\\Users\\hp\\AppData\\Local\\Temp/ipykernel_4792/1756217840.py\"\u001b[1;36m, line \u001b[1;32m1\u001b[0m\n\u001b[1;33m    z.iloc[]\u001b[0m\n\u001b[1;37m           ^\u001b[0m\n\u001b[1;31mSyntaxError\u001b[0m\u001b[1;31m:\u001b[0m invalid syntax\n"
     ]
    }
   ],
   "source": [
    "z.iloc[]"
   ]
  },
  {
   "cell_type": "code",
   "execution_count": 31,
   "id": "a2c5fcc5",
   "metadata": {},
   "outputs": [
    {
     "data": {
      "text/plain": [
       "(200, 4)"
      ]
     },
     "execution_count": 31,
     "metadata": {},
     "output_type": "execute_result"
    }
   ],
   "source": [
    "z.shape"
   ]
  },
  {
   "cell_type": "code",
   "execution_count": 32,
   "id": "1a128c68",
   "metadata": {},
   "outputs": [
    {
     "data": {
      "text/plain": [
       "3"
      ]
     },
     "execution_count": 32,
     "metadata": {},
     "output_type": "execute_result"
    }
   ],
   "source": [
    "len(np.where(z>3)[0])"
   ]
  },
  {
   "cell_type": "code",
   "execution_count": 33,
   "id": "6fe9899e",
   "metadata": {},
   "outputs": [
    {
     "name": "stdout",
     "output_type": "stream",
     "text": [
      "Old Dataframe (200, 4)\n",
      "New Dataframe (197, 4)\n",
      "total_dropped_rows 3\n"
     ]
    }
   ],
   "source": [
    "df_new=df[(z<3).all(axis=1)]\n",
    "print(\"Old Dataframe\",df.shape)\n",
    "print(\"New Dataframe\",df_new.shape)\n",
    "print(\"total_dropped_rows\",df.shape[0] - df_new.shape[0])"
   ]
  },
  {
   "cell_type": "markdown",
   "id": "c6e805ab",
   "metadata": {},
   "source": [
    "# Percentage data loss:"
   ]
  },
  {
   "cell_type": "code",
   "execution_count": 34,
   "id": "cc50a9ca",
   "metadata": {},
   "outputs": [
    {
     "name": "stdout",
     "output_type": "stream",
     "text": [
      "1.0 %\n"
     ]
    }
   ],
   "source": [
    "loss_percent=(200-198)/200*100\n",
    "print(loss_percent,'%')"
   ]
  },
  {
   "cell_type": "markdown",
   "id": "859bbcb4",
   "metadata": {},
   "source": [
    "After removing the outliers we are checking the data loss percentage by comparing the rows in our original data set and the new data set\n",
    "\n",
    "3.04% data loss is acceptable."
   ]
  },
  {
   "cell_type": "markdown",
   "id": "c38a1b41",
   "metadata": {},
   "source": [
    "Splitting the dataset into Features and Target"
   ]
  },
  {
   "cell_type": "code",
   "execution_count": 35,
   "id": "d8affe4d",
   "metadata": {},
   "outputs": [],
   "source": [
    "X = df_new.iloc[:,:-1]\n",
    "y = df_new.iloc[:,-1]"
   ]
  },
  {
   "cell_type": "code",
   "execution_count": 36,
   "id": "99974ec1",
   "metadata": {},
   "outputs": [
    {
     "data": {
      "text/html": [
       "<div>\n",
       "<style scoped>\n",
       "    .dataframe tbody tr th:only-of-type {\n",
       "        vertical-align: middle;\n",
       "    }\n",
       "\n",
       "    .dataframe tbody tr th {\n",
       "        vertical-align: top;\n",
       "    }\n",
       "\n",
       "    .dataframe thead th {\n",
       "        text-align: right;\n",
       "    }\n",
       "</style>\n",
       "<table border=\"1\" class=\"dataframe\">\n",
       "  <thead>\n",
       "    <tr style=\"text-align: right;\">\n",
       "      <th></th>\n",
       "      <th>TV</th>\n",
       "      <th>radio</th>\n",
       "      <th>newspaper</th>\n",
       "    </tr>\n",
       "  </thead>\n",
       "  <tbody>\n",
       "    <tr>\n",
       "      <th>0</th>\n",
       "      <td>230.1</td>\n",
       "      <td>37.8</td>\n",
       "      <td>4.237001</td>\n",
       "    </tr>\n",
       "    <tr>\n",
       "      <th>1</th>\n",
       "      <td>44.5</td>\n",
       "      <td>39.3</td>\n",
       "      <td>3.808882</td>\n",
       "    </tr>\n",
       "    <tr>\n",
       "      <th>2</th>\n",
       "      <td>17.2</td>\n",
       "      <td>45.9</td>\n",
       "      <td>4.238445</td>\n",
       "    </tr>\n",
       "    <tr>\n",
       "      <th>3</th>\n",
       "      <td>151.5</td>\n",
       "      <td>41.3</td>\n",
       "      <td>4.069027</td>\n",
       "    </tr>\n",
       "    <tr>\n",
       "      <th>4</th>\n",
       "      <td>180.8</td>\n",
       "      <td>10.8</td>\n",
       "      <td>4.067316</td>\n",
       "    </tr>\n",
       "    <tr>\n",
       "      <th>...</th>\n",
       "      <td>...</td>\n",
       "      <td>...</td>\n",
       "      <td>...</td>\n",
       "    </tr>\n",
       "    <tr>\n",
       "      <th>195</th>\n",
       "      <td>38.2</td>\n",
       "      <td>3.7</td>\n",
       "      <td>2.624669</td>\n",
       "    </tr>\n",
       "    <tr>\n",
       "      <th>196</th>\n",
       "      <td>94.2</td>\n",
       "      <td>4.9</td>\n",
       "      <td>2.091864</td>\n",
       "    </tr>\n",
       "    <tr>\n",
       "      <th>197</th>\n",
       "      <td>177.0</td>\n",
       "      <td>9.3</td>\n",
       "      <td>1.856298</td>\n",
       "    </tr>\n",
       "    <tr>\n",
       "      <th>198</th>\n",
       "      <td>283.6</td>\n",
       "      <td>42.0</td>\n",
       "      <td>4.192680</td>\n",
       "    </tr>\n",
       "    <tr>\n",
       "      <th>199</th>\n",
       "      <td>232.1</td>\n",
       "      <td>8.6</td>\n",
       "      <td>2.163323</td>\n",
       "    </tr>\n",
       "  </tbody>\n",
       "</table>\n",
       "<p>197 rows × 3 columns</p>\n",
       "</div>"
      ],
      "text/plain": [
       "        TV  radio  newspaper\n",
       "0    230.1   37.8   4.237001\n",
       "1     44.5   39.3   3.808882\n",
       "2     17.2   45.9   4.238445\n",
       "3    151.5   41.3   4.069027\n",
       "4    180.8   10.8   4.067316\n",
       "..     ...    ...        ...\n",
       "195   38.2    3.7   2.624669\n",
       "196   94.2    4.9   2.091864\n",
       "197  177.0    9.3   1.856298\n",
       "198  283.6   42.0   4.192680\n",
       "199  232.1    8.6   2.163323\n",
       "\n",
       "[197 rows x 3 columns]"
      ]
     },
     "execution_count": 36,
     "metadata": {},
     "output_type": "execute_result"
    }
   ],
   "source": [
    "X"
   ]
  },
  {
   "cell_type": "code",
   "execution_count": 37,
   "id": "ca68fa99",
   "metadata": {},
   "outputs": [
    {
     "data": {
      "text/plain": [
       "0      22.1\n",
       "1      10.4\n",
       "2       9.3\n",
       "3      18.5\n",
       "4      12.9\n",
       "       ... \n",
       "195     7.6\n",
       "196     9.7\n",
       "197    12.8\n",
       "198    25.5\n",
       "199    13.4\n",
       "Name: sales, Length: 197, dtype: float64"
      ]
     },
     "execution_count": 37,
     "metadata": {},
     "output_type": "execute_result"
    }
   ],
   "source": [
    "y"
   ]
  },
  {
   "cell_type": "code",
   "execution_count": 38,
   "id": "d2140b31",
   "metadata": {},
   "outputs": [
    {
     "data": {
      "text/plain": [
       "newspaper   -0.760308\n",
       "TV          -0.077750\n",
       "radio        0.075119\n",
       "dtype: float64"
      ]
     },
     "execution_count": 38,
     "metadata": {},
     "output_type": "execute_result"
    }
   ],
   "source": [
    "X.skew().sort_values()"
   ]
  },
  {
   "cell_type": "markdown",
   "id": "1cc1e2d9",
   "metadata": {},
   "source": [
    "Observations:\n",
    "\n",
    "Since the skewness is almost within permissible ranges and the outlier data are a real value we have proceeded with the X independant variables as it"
   ]
  },
  {
   "cell_type": "markdown",
   "id": "235ff52b",
   "metadata": {},
   "source": [
    "## Scaling the independant variable (x) to get all the columns in a standard scale"
   ]
  },
  {
   "cell_type": "code",
   "execution_count": 39,
   "id": "bf9f220e",
   "metadata": {},
   "outputs": [
    {
     "data": {
      "text/plain": [
       "array([[ 9.69891914e-01,  9.68397632e-01,  1.26998788e+00],\n",
       "       [-1.21047453e+00,  1.06968657e+00,  7.79118887e-01],\n",
       "       [-1.53118576e+00,  1.51535788e+00,  1.27164358e+00],\n",
       "       [ 4.65255202e-02,  1.20473848e+00,  1.07739340e+00],\n",
       "       [ 3.90732077e-01, -8.54803205e-01,  1.07543177e+00],\n",
       "       [-1.63104090e+00,  1.71793575e+00,  1.36227234e+00],\n",
       "       [-1.05775490e+00,  6.30767848e-01,  3.16891701e-02],\n",
       "       [-3.21176364e-01, -2.60574784e-01, -7.77785590e-01],\n",
       "       [ 6.13937693e-01, -1.40851605e+00, -8.64069163e-02],\n",
       "       [-9.56724989e-01, -1.19243299e+00,  6.53436066e-02],\n",
       "       [ 7.88977887e-01,  3.65394265e-02, -1.99855355e+00],\n",
       "       [-1.45365118e+00,  7.86077549e-01,  1.21396358e+00],\n",
       "       [-5.87848338e-01, -1.07088627e+00, -1.32461357e+00],\n",
       "       [ 6.64452649e-01,  6.37520443e-01,  8.01774183e-01],\n",
       "       [ 5.62247971e-01,  1.63690461e+00,  9.62021370e-01],\n",
       "       [-9.36753960e-01,  8.87366484e-01,  1.84235406e+00],\n",
       "       [ 1.57254708e+00,  1.08994436e+00,  1.02321455e+00],\n",
       "       [-9.20307230e-01, -1.99801423e-01, -2.55067858e-01],\n",
       "       [-2.81466874e-03,  2.97868308e-02, -2.06009148e-01],\n",
       "       [ 8.32444244e-01,  2.86385467e-01,  9.72807644e-01],\n",
       "       [ 1.05564986e+00, -1.23970116e+00,  3.16891701e-02],\n",
       "       [-1.57817642e+00, -5.10420825e-01,  8.88167769e-01],\n",
       "       [ 9.48746118e-01, -4.42894868e-01,  1.56389227e-01],\n",
       "       [-1.00136611e+00, -7.33256483e-01, -2.55067858e-01],\n",
       "       [ 1.35521529e+00, -1.34774269e+00, -1.82245139e-01],\n",
       "       [-5.45043905e-02,  3.94426998e-01, -6.82973550e-01],\n",
       "       [ 1.08736855e+00, -4.56400059e-01,  2.03478235e-03],\n",
       "       [ 1.18957323e+00,  2.45869893e-01,  2.03478235e-03],\n",
       "       [-9.03860500e-01, -5.03668229e-01,  6.64232142e-01],\n",
       "       [ 1.70764522e+00,  3.26901041e-01,  7.29768402e-01],\n",
       "       [-4.06934312e-01, -4.09131889e-01,  6.00677857e-01],\n",
       "       [-5.91372637e-01, -1.48279461e+00,  3.11678668e-01],\n",
       "       [-6.08994133e-01, -1.48954720e+00, -1.29319867e+00],\n",
       "       [ 1.68180035e+00, -1.30722712e+00, -1.13429959e+00],\n",
       "       [ 1.40220595e+00,  1.37355337e+00, -1.74270331e+00],\n",
       "       [-8.55695078e-01,  1.75169873e+00,  7.94272047e-01],\n",
       "       [-1.22692126e+00,  2.18859510e-01,  4.91694835e-01],\n",
       "       [ 9.45221819e-01,  9.61645037e-01,  3.85676756e-01],\n",
       "       [ 6.45656386e-01, -7.82547004e-02,  3.71254271e-01],\n",
       "       [ 3.46090953e-01,  6.71283422e-01,  6.03644410e-01],\n",
       "       [ 1.71586858e+00,  2.86385467e-01, -2.91410044e+00],\n",
       "       [ 6.97346108e-01, -1.01686550e+00,  1.65108451e-01],\n",
       "       [-1.43837921e+00,  1.51333553e-01,  7.32419438e-01],\n",
       "       [ 3.23770392e-01, -6.47495090e-02,  3.67620124e-01],\n",
       "       [-6.79480117e-01, -9.15576567e-01,  5.11128731e-01],\n",
       "       [ 1.08501902e+00,  1.21824367e+00, -2.42604991e-01],\n",
       "       [ 9.35823688e-01, -5.17173421e-01,  8.95081794e-01],\n",
       "       [-9.47326857e-01, -7.94029844e-01,  5.45923943e-01],\n",
       "       [ 6.13937693e-01, -1.37475307e+00,  4.75244446e-01],\n",
       "       [-5.53780112e-01, -9.35834354e-01, -2.11935701e+00],\n",
       "       [ 8.08948916e-01,  1.23174886e+00,  6.30003558e-01],\n",
       "       [ 4.11877872e-01,  1.53561567e+00,  1.08130662e+00],\n",
       "       [ 1.35286576e+00,  3.60664020e-01, -4.16255244e-01],\n",
       "       [ 6.03364796e-01,  1.75169873e+00,  1.10642210e+00],\n",
       "       [-1.64748763e+00,  3.13395850e-01,  6.80970722e-01],\n",
       "       [-1.33213740e-01, -2.87585167e-01, -3.66856793e-01],\n",
       "       [ 7.43161998e-01,  1.76520392e+00,  5.73627712e-01],\n",
       "       [ 7.41987231e-01,  4.07932190e-01, -1.03116743e+00],\n",
       "       [-1.10474556e+00, -1.44903163e+00, -7.56408991e-02],\n",
       "       [ 1.33641903e+00,  1.29927482e+00,  1.00038611e+00],\n",
       "       [ 1.07797042e+00, -5.37431208e-01,  2.03544645e-01],\n",
       "       [-5.26760485e-01,  4.14684785e-01, -1.14786866e+00],\n",
       "       [-1.93126826e-01,  1.30602742e+00,  2.68847554e-01],\n",
       "       [-1.36319416e+00,  7.70550006e-02, -2.68401696e+00],\n",
       "       [-9.67959811e-02, -6.04957165e-01, -9.25254727e-01],\n",
       "       [ 1.05564986e+00,  2.72880276e-01, -8.38679850e-01],\n",
       "       [ 8.13647982e-01,  1.38030597e+00,  1.99337035e-01],\n",
       "       [ 6.05714328e-01,  4.82210742e-01,  6.03644410e-01],\n",
       "       [-4.43352070e-01, -6.18462356e-01,  3.74876936e-01],\n",
       "       [-1.41840819e+00,  6.44273039e-01, -1.94065578e-01],\n",
       "       [-2.13097855e-01, -1.19918559e+00,  3.60317090e-01],\n",
       "       [ 7.73705924e-01,  7.70550006e-02, -6.38354207e-01],\n",
       "       [-1.53471006e+00,  1.36680078e+00,  1.56364780e+00],\n",
       "       [-1.41018482e+00, -1.47604201e+00, -1.13772712e-01],\n",
       "       [-3.17652065e-01,  3.40406233e-01, -5.45906378e-01],\n",
       "       [-1.66980820e+00,  4.34942573e-01, -1.01890450e+00],\n",
       "       [-3.70516553e-01, -1.06413367e+00,  1.20050401e-02],\n",
       "       [-8.35724049e-01,  2.18859510e-01, -2.84069813e-02],\n",
       "       [ 1.08384425e+00, -1.30722712e+00,  5.49035403e-01],\n",
       "       [-8.48646479e-01, -2.13306614e-01,  4.03453428e-01],\n",
       "       [-9.29705361e-01,  1.42082154e+00,  5.07912537e-01],\n",
       "       [ 7.74880691e-01,  1.31953261e+00,  4.48422816e-01],\n",
       "       [ 5.36403111e-01, -3.41605933e-01,  1.21047855e+00],\n",
       "       [-8.36898815e-01,  2.72880276e-01, -4.09066679e-01],\n",
       "       [-4.32779173e-01,  1.15747031e+00,  1.16599771e+00],\n",
       "       [-6.95926847e-01,  1.37828362e-01,  1.33754745e+00],\n",
       "       [-4.43352070e-01,  1.64365720e+00,  9.29040024e-01],\n",
       "       [-1.55534301e-01, -1.25320635e+00, -1.03116743e+00],\n",
       "       [-1.39726239e+00, -1.48279461e+00,  4.20958691e-01],\n",
       "       [ 8.24220880e-01,  6.78036018e-01,  1.08715152e+00],\n",
       "       [ 1.21424333e+00,  8.80613888e-01,  1.32023443e+00],\n",
       "       [-4.71546464e-01, -6.38720143e-01, -8.49150904e-01],\n",
       "       [ 1.85147956e-01,  5.49736699e-01,  9.62021370e-01],\n",
       "       [ 5.88092832e-01, -1.34774269e+00, -1.55292902e+00],\n",
       "       [ 4.38897499e-01, -1.66038444e-01, -4.39364161e-02],\n",
       "       [ 1.67005269e+00,  1.27226444e+00,  9.24569950e-01],\n",
       "       [-1.44961404e-01,  1.23174886e+00,  7.99278921e-01],\n",
       "       [ 8.79434901e-01, -1.29372193e+00,  8.92781749e-01],\n",
       "       [ 1.74876204e+00,  8.67108697e-01,  1.70239366e+00],\n",
       "       [ 1.55844988e+00, -9.02071375e-01, -7.56408991e-02],\n",
       "       [ 4.74140491e-01, -4.22637081e-01, -2.80407506e-01],\n",
       "       [ 1.06504799e+00,  7.32056783e-01, -1.67589379e+00],\n",
       "       [-1.13242711e-01,  1.54912086e+00,  1.08715152e+00],\n",
       "       [-1.43955398e+00, -8.41298014e-01,  3.00155230e-01],\n",
       "       [-6.71256753e-01, -1.56382575e+00,  1.69578444e-02],\n",
       "       [-1.57935118e+00, -1.55707316e+00,  1.29826516e-01],\n",
       "       [ 1.26710781e+00,  2.32364702e-01, -1.63342328e+00],\n",
       "       [ 9.19376958e-01, -1.03037069e+00,  1.03750860e+00],\n",
       "       [ 1.10616482e+00,  9.81902824e-01,  1.69578444e-02],\n",
       "       [ 3.30818990e-01, -5.44183803e-01, -2.58425211e+00],\n",
       "       [ 7.29064801e-01, -1.93048827e-01, -8.70384333e-01],\n",
       "       [-8.14578254e-01,  1.57613125e+00,  4.71925855e-01],\n",
       "       [-8.50996012e-01,  7.79324953e-01,  9.57678288e-01],\n",
       "       [-9.79707475e-02, -6.18462356e-01,  1.29826516e-01],\n",
       "       [-8.35724049e-01, -1.53006277e+00, -4.98455231e-01],\n",
       "       [-2.56564212e-01,  9.07624271e-01,  1.42474699e+00],\n",
       "       [-1.50534090e+00, -5.03668229e-01, -2.84069813e-02],\n",
       "       [-7.33006530e-02,  2.25612106e-01,  8.06748474e-01],\n",
       "       [-1.51238950e+00, -1.18770275e-01,  9.06513319e-01],\n",
       "       [ 8.98231163e-01, -1.42202124e+00, -4.38095379e-01],\n",
       "       [-2.87108138e-01,  7.52314570e-01, -7.01319100e-01],\n",
       "       [ 9.62843315e-01,  5.97004869e-01,  1.34997654e+00],\n",
       "       [-7.08849277e-01, -7.87277248e-01,  1.43184792e-01],\n",
       "       [-1.64161380e+00,  1.04267619e+00,  9.11054206e-01],\n",
       "       [-7.91082926e-01, -1.58408354e+00, -1.04356293e+00],\n",
       "       [ 8.54764806e-01,  1.72468835e+00, -2.25440379e+00],\n",
       "       [-1.03308480e+00, -7.73772057e-01,  7.27111223e-01],\n",
       "       [-1.72502222e+00,  1.08994436e+00, -1.10763392e+00],\n",
       "       [ 1.38223492e+00, -1.38825827e+00,  7.24447871e-01],\n",
       "       [-1.63456520e+00,  2.52622489e-01, -2.73735553e+00],\n",
       "       [ 8.48890974e-01,  6.78036018e-01,  7.79118887e-01],\n",
       "       [-1.29975678e+00,  1.02241840e+00,  1.20873206e+00],\n",
       "       [-1.16583341e+00,  1.58963644e+00, -1.13429959e+00],\n",
       "       [-1.43250538e+00,  1.04942878e+00, -1.03116743e+00],\n",
       "       [ 1.48209007e+00,  3.67416616e-01,  1.10067486e+00],\n",
       "       [-1.22809603e+00,  1.64838745e-01, -1.24904570e-01],\n",
       "       [ 4.38897499e-01,  1.38030597e+00, -2.97963670e+00],\n",
       "       [-8.70967041e-01, -4.36142272e-01, -6.55994131e-01],\n",
       "       [ 5.42276943e-01,  8.06335336e-01,  1.37140843e+00],\n",
       "       [ 8.57114339e-01,  6.57778230e-01,  5.79694246e-01],\n",
       "       [-5.04439923e-01, -1.19918559e+00,  4.68597631e-01],\n",
       "       [-6.03120301e-01, -5.84699378e-01,  6.09554591e-01],\n",
       "       [-8.50483170e-02, -1.45578422e+00, -1.06876333e+00],\n",
       "       [ 1.08736855e+00, -1.09114405e+00, -1.10763392e+00],\n",
       "       [ 1.12378631e+00,  1.72468835e+00,  7.58598027e-01],\n",
       "       [-1.28683435e+00,  1.13721252e+00, -7.48509810e-01],\n",
       "       [-1.20812500e+00,  1.58086149e-01, -1.19325132e-01],\n",
       "       [ 1.56432371e+00, -6.45472739e-01,  5.52138443e-01],\n",
       "       [-3.11778233e-01, -1.01686550e+00,  8.67171960e-01],\n",
       "       [ 5.88092832e-01, -1.07287434e-02, -5.45906378e-01],\n",
       "       [ 2.79129268e-01,  1.09669695e+00,  5.73627712e-01],\n",
       "       [ 4.72965725e-01, -1.59285849e-01, -1.00677135e+00],\n",
       "       [-1.68508016e+00, -8.00782440e-01, -1.59246992e+00],\n",
       "       [-6.30139928e-01,  1.35329559e+00,  9.08786010e-01],\n",
       "       [ 2.65544914e-02, -1.49629980e+00,  7.00717469e-02],\n",
       "       [-1.59579791e+00,  9.07624271e-01,  7.81658361e-01],\n",
       "       [-1.86078228e-01, -3.41605933e-01,  4.75244446e-01],\n",
       "       [ 2.93226465e-01, -3.61863720e-01,  3.38124674e-01],\n",
       "       [-7.26470773e-01,  8.33345719e-01,  8.81211798e-01],\n",
       "       [ 4.80014323e-01, -3.61863720e-01,  1.29826516e-01],\n",
       "       [ 1.87497489e-01,  9.00871676e-01, -1.29319867e+00],\n",
       "       [-3.56419356e-01, -5.91451973e-01, -1.65446190e+00],\n",
       "       [ 1.02158164e+00, -1.35449529e+00,  1.50307995e+00],\n",
       "       [-1.52296240e+00,  9.54892441e-01, -6.49750323e-02],\n",
       "       [ 6.96171342e-01, -1.23294856e+00, -1.88140126e-01],\n",
       "       [ 7.97201252e-01,  9.52904367e-03,  1.05961673e+00],\n",
       "       [ 1.60661530e+00, -8.68308397e-01, -1.45966035e+00],\n",
       "       [-1.14586238e+00, -8.00782440e-01, -2.48819491e-01],\n",
       "       [ 1.99245153e-01, -1.72791040e-01,  8.36149378e-01],\n",
       "       [-1.50299137e+00, -2.26811806e-01, -3.39556160e-01],\n",
       "       [ 2.45061042e-01, -1.10464925e+00, -6.64916918e-01],\n",
       "       [ 8.79434901e-01, -1.35449529e+00, -6.38354207e-01],\n",
       "       [ 1.51968259e+00,  1.71793575e+00,  6.91995542e-01],\n",
       "       [ 1.18487417e+00,  4.55200360e-01, -1.36145566e-01],\n",
       "       [ 2.66206838e-01, -1.05738108e+00,  4.94956778e-01],\n",
       "       [ 1.51733306e+00, -1.42877384e+00,  4.14059436e-02],\n",
       "       [ 2.12167583e-01, -9.08823971e-01, -2.99786656e-01],\n",
       "       [ 1.06438607e-01, -1.40851605e+00, -1.16160023e+00],\n",
       "       [ 8.33619011e-01, -1.21944337e+00,  2.07736870e-01],\n",
       "       [-1.07302686e+00, -1.19918559e+00,  3.00155230e-01],\n",
       "       [ 1.64538260e+00,  1.31953261e+00,  1.31227761e+00],\n",
       "       [ 1.24831155e+00, -1.45780657e-01,  3.11678668e-01],\n",
       "       [ 6.75025546e-01,  1.46133712e+00, -1.76380306e-01],\n",
       "       [-9.44464482e-02, -1.44227903e+00,  1.73761869e-01],\n",
       "       [ 5.11733016e-01,  3.53911424e-01, -2.61350462e-01],\n",
       "       [ 1.62658633e+00, -6.45472739e-01, -2.08794210e+00],\n",
       "       [-1.51356426e+00, -7.67019461e-01,  2.67997281e-02],\n",
       "       [-1.26921285e+00,  1.19123329e+00, -1.57252902e+00],\n",
       "       [-8.46296947e-01, -8.54803205e-01, -1.53365844e+00],\n",
       "       [-1.53118576e+00, -1.30722712e+00,  3.71254271e-01],\n",
       "       [ 2.26264780e-01,  1.25200665e+00, -2.11935701e+00],\n",
       "       [ 2.53797249e-02,  8.19840527e-01, -1.53365844e+00],\n",
       "       [-1.28448482e+00, -1.33423750e+00, -5.78667819e-01],\n",
       "       [-6.26615629e-01, -1.25320635e+00, -1.18956679e+00],\n",
       "       [ 3.46090953e-01, -9.56092141e-01, -1.45966035e+00],\n",
       "       [ 1.59839194e+00,  1.25200665e+00,  1.21917133e+00],\n",
       "       [ 9.93387242e-01, -1.00336031e+00, -1.10763392e+00]])"
      ]
     },
     "execution_count": 39,
     "metadata": {},
     "output_type": "execute_result"
    }
   ],
   "source": [
    "sc=StandardScaler()\n",
    "x1=sc.fit_transform(X)\n",
    "x1"
   ]
  },
  {
   "cell_type": "code",
   "execution_count": 40,
   "id": "81815f70",
   "metadata": {},
   "outputs": [
    {
     "data": {
      "text/plain": [
       "Index(['TV', 'radio', 'newspaper'], dtype='object')"
      ]
     },
     "execution_count": 40,
     "metadata": {},
     "output_type": "execute_result"
    }
   ],
   "source": [
    "X.columns"
   ]
  },
  {
   "cell_type": "code",
   "execution_count": 41,
   "id": "6e410b43",
   "metadata": {},
   "outputs": [],
   "source": [
    "x = pd.DataFrame(x1,columns=X.columns)"
   ]
  },
  {
   "cell_type": "code",
   "execution_count": 42,
   "id": "c4952d25",
   "metadata": {},
   "outputs": [
    {
     "data": {
      "text/html": [
       "<div>\n",
       "<style scoped>\n",
       "    .dataframe tbody tr th:only-of-type {\n",
       "        vertical-align: middle;\n",
       "    }\n",
       "\n",
       "    .dataframe tbody tr th {\n",
       "        vertical-align: top;\n",
       "    }\n",
       "\n",
       "    .dataframe thead th {\n",
       "        text-align: right;\n",
       "    }\n",
       "</style>\n",
       "<table border=\"1\" class=\"dataframe\">\n",
       "  <thead>\n",
       "    <tr style=\"text-align: right;\">\n",
       "      <th></th>\n",
       "      <th>TV</th>\n",
       "      <th>radio</th>\n",
       "      <th>newspaper</th>\n",
       "    </tr>\n",
       "  </thead>\n",
       "  <tbody>\n",
       "    <tr>\n",
       "      <th>0</th>\n",
       "      <td>230.1</td>\n",
       "      <td>37.8</td>\n",
       "      <td>4.237001</td>\n",
       "    </tr>\n",
       "    <tr>\n",
       "      <th>1</th>\n",
       "      <td>44.5</td>\n",
       "      <td>39.3</td>\n",
       "      <td>3.808882</td>\n",
       "    </tr>\n",
       "    <tr>\n",
       "      <th>2</th>\n",
       "      <td>17.2</td>\n",
       "      <td>45.9</td>\n",
       "      <td>4.238445</td>\n",
       "    </tr>\n",
       "    <tr>\n",
       "      <th>3</th>\n",
       "      <td>151.5</td>\n",
       "      <td>41.3</td>\n",
       "      <td>4.069027</td>\n",
       "    </tr>\n",
       "    <tr>\n",
       "      <th>4</th>\n",
       "      <td>180.8</td>\n",
       "      <td>10.8</td>\n",
       "      <td>4.067316</td>\n",
       "    </tr>\n",
       "    <tr>\n",
       "      <th>...</th>\n",
       "      <td>...</td>\n",
       "      <td>...</td>\n",
       "      <td>...</td>\n",
       "    </tr>\n",
       "    <tr>\n",
       "      <th>195</th>\n",
       "      <td>38.2</td>\n",
       "      <td>3.7</td>\n",
       "      <td>2.624669</td>\n",
       "    </tr>\n",
       "    <tr>\n",
       "      <th>196</th>\n",
       "      <td>94.2</td>\n",
       "      <td>4.9</td>\n",
       "      <td>2.091864</td>\n",
       "    </tr>\n",
       "    <tr>\n",
       "      <th>197</th>\n",
       "      <td>177.0</td>\n",
       "      <td>9.3</td>\n",
       "      <td>1.856298</td>\n",
       "    </tr>\n",
       "    <tr>\n",
       "      <th>198</th>\n",
       "      <td>283.6</td>\n",
       "      <td>42.0</td>\n",
       "      <td>4.192680</td>\n",
       "    </tr>\n",
       "    <tr>\n",
       "      <th>199</th>\n",
       "      <td>232.1</td>\n",
       "      <td>8.6</td>\n",
       "      <td>2.163323</td>\n",
       "    </tr>\n",
       "  </tbody>\n",
       "</table>\n",
       "<p>197 rows × 3 columns</p>\n",
       "</div>"
      ],
      "text/plain": [
       "        TV  radio  newspaper\n",
       "0    230.1   37.8   4.237001\n",
       "1     44.5   39.3   3.808882\n",
       "2     17.2   45.9   4.238445\n",
       "3    151.5   41.3   4.069027\n",
       "4    180.8   10.8   4.067316\n",
       "..     ...    ...        ...\n",
       "195   38.2    3.7   2.624669\n",
       "196   94.2    4.9   2.091864\n",
       "197  177.0    9.3   1.856298\n",
       "198  283.6   42.0   4.192680\n",
       "199  232.1    8.6   2.163323\n",
       "\n",
       "[197 rows x 3 columns]"
      ]
     },
     "execution_count": 42,
     "metadata": {},
     "output_type": "execute_result"
    }
   ],
   "source": [
    "X"
   ]
  },
  {
   "cell_type": "markdown",
   "id": "c3dad8c1",
   "metadata": {},
   "source": [
    "# Machine Learning Models"
   ]
  },
  {
   "cell_type": "markdown",
   "id": "f25279d8",
   "metadata": {},
   "source": [
    "dependent Variable is continuous values we will use Linear Regression model"
   ]
  },
  {
   "cell_type": "code",
   "execution_count": 43,
   "id": "d31beb79",
   "metadata": {},
   "outputs": [],
   "source": [
    "lr = LinearRegression()"
   ]
  },
  {
   "cell_type": "code",
   "execution_count": 44,
   "id": "dd72d68a",
   "metadata": {},
   "outputs": [],
   "source": [
    "random_state = []\n",
    "training_accuracy = []\n",
    "testing_accuracy = []"
   ]
  },
  {
   "cell_type": "code",
   "execution_count": 45,
   "id": "533a8313",
   "metadata": {},
   "outputs": [],
   "source": [
    "for i in range(1,200):\n",
    "    x_train,x_test,y_train,y_test = train_test_split(x,y,test_size=.20,random_state=i)\n",
    "    lr = LinearRegression()\n",
    "    lr.fit(x_train, y_train)\n",
    "    pred_train = lr.predict(x_train)\n",
    "    pred_test = lr.predict(x_test)\n",
    "    random_state.append(i)\n",
    "    training_accuracy.append(round(r2_score(y_train,pred_train), 2))\n",
    "    testing_accuracy.append(round(r2_score(y_test,pred_test), 2))"
   ]
  },
  {
   "cell_type": "code",
   "execution_count": 46,
   "id": "66f60b8c",
   "metadata": {},
   "outputs": [],
   "source": [
    "lr_acc = pd.DataFrame()"
   ]
  },
  {
   "cell_type": "code",
   "execution_count": 47,
   "id": "fab0e6ea",
   "metadata": {},
   "outputs": [],
   "source": [
    "lr_acc['random_state'] = random_state\n",
    "lr_acc['training_accuracy'] = training_accuracy\n",
    "lr_acc['testing_accuracy'] = testing_accuracy"
   ]
  },
  {
   "cell_type": "code",
   "execution_count": 48,
   "id": "30f7a755",
   "metadata": {},
   "outputs": [
    {
     "data": {
      "text/html": [
       "<div>\n",
       "<style scoped>\n",
       "    .dataframe tbody tr th:only-of-type {\n",
       "        vertical-align: middle;\n",
       "    }\n",
       "\n",
       "    .dataframe tbody tr th {\n",
       "        vertical-align: top;\n",
       "    }\n",
       "\n",
       "    .dataframe thead th {\n",
       "        text-align: right;\n",
       "    }\n",
       "</style>\n",
       "<table border=\"1\" class=\"dataframe\">\n",
       "  <thead>\n",
       "    <tr style=\"text-align: right;\">\n",
       "      <th></th>\n",
       "      <th>random_state</th>\n",
       "      <th>training_accuracy</th>\n",
       "      <th>testing_accuracy</th>\n",
       "    </tr>\n",
       "  </thead>\n",
       "  <tbody>\n",
       "    <tr>\n",
       "      <th>187</th>\n",
       "      <td>188</td>\n",
       "      <td>0.88</td>\n",
       "      <td>0.95</td>\n",
       "    </tr>\n",
       "  </tbody>\n",
       "</table>\n",
       "</div>"
      ],
      "text/plain": [
       "     random_state  training_accuracy  testing_accuracy\n",
       "187           188               0.88              0.95"
      ]
     },
     "execution_count": 48,
     "metadata": {},
     "output_type": "execute_result"
    }
   ],
   "source": [
    "lr_acc.sort_values('testing_accuracy').tail(1)"
   ]
  },
  {
   "cell_type": "code",
   "execution_count": 52,
   "id": "2f4478d2",
   "metadata": {},
   "outputs": [],
   "source": [
    "x_train,x_test,y_train,y_test = train_test_split(x,y,test_size=.20,random_state=111)"
   ]
  },
  {
   "cell_type": "code",
   "execution_count": 53,
   "id": "f8555023",
   "metadata": {},
   "outputs": [
    {
     "data": {
      "text/plain": [
       "LinearRegression()"
      ]
     },
     "execution_count": 53,
     "metadata": {},
     "output_type": "execute_result"
    }
   ],
   "source": [
    "lr.fit(x_train,y_train)"
   ]
  },
  {
   "cell_type": "code",
   "execution_count": 54,
   "id": "d2d05dec",
   "metadata": {},
   "outputs": [],
   "source": [
    "pred_test = lr.predict(x_test)"
   ]
  },
  {
   "cell_type": "code",
   "execution_count": 55,
   "id": "1f0da8d2",
   "metadata": {},
   "outputs": [
    {
     "name": "stdout",
     "output_type": "stream",
     "text": [
      "0.9308514560867515\n"
     ]
    }
   ],
   "source": [
    "print(r2_score(y_test,pred_test))"
   ]
  },
  {
   "cell_type": "markdown",
   "id": "65f8fbfb",
   "metadata": {},
   "source": [
    "Cross Validation of the model"
   ]
  },
  {
   "cell_type": "code",
   "execution_count": 58,
   "id": "0fa267ac",
   "metadata": {},
   "outputs": [
    {
     "name": "stdout",
     "output_type": "stream",
     "text": [
      "At cross fold 2 the cv score is 0.8905384965396053\n",
      "accuracy score for training is -1.0583792352388217\n",
      "accuracy score for testing is 0.9308514560867515\n",
      "\n",
      "\n",
      "At cross fold 3 the cv score is 0.8896726737558588\n",
      "accuracy score for training is -1.0583792352388217\n",
      "accuracy score for testing is 0.9308514560867515\n",
      "\n",
      "\n",
      "At cross fold 4 the cv score is 0.888196043288129\n",
      "accuracy score for training is -1.0583792352388217\n",
      "accuracy score for testing is 0.9308514560867515\n",
      "\n",
      "\n",
      "At cross fold 5 the cv score is 0.8865340711347679\n",
      "accuracy score for training is -1.0583792352388217\n",
      "accuracy score for testing is 0.9308514560867515\n",
      "\n",
      "\n",
      "At cross fold 6 the cv score is 0.8864357051581581\n",
      "accuracy score for training is -1.0583792352388217\n",
      "accuracy score for testing is 0.9308514560867515\n",
      "\n",
      "\n",
      "At cross fold 7 the cv score is 0.8842538918275079\n",
      "accuracy score for training is -1.0583792352388217\n",
      "accuracy score for testing is 0.9308514560867515\n",
      "\n",
      "\n",
      "At cross fold 8 the cv score is 0.8881003040866844\n",
      "accuracy score for training is -1.0583792352388217\n",
      "accuracy score for testing is 0.9308514560867515\n",
      "\n",
      "\n",
      "At cross fold 9 the cv score is 0.8776417119986254\n",
      "accuracy score for training is -1.0583792352388217\n",
      "accuracy score for testing is 0.9308514560867515\n",
      "\n",
      "\n"
     ]
    }
   ],
   "source": [
    "train_accuracy = r2_score(y_train,pred_train)\n",
    "test_accuracy = r2_score(y_test,pred_test)\n",
    "\n",
    "for j in range(2,10):\n",
    "    cv_score = cross_val_score(lr,x,y,cv=j)\n",
    "    cv_mean=cv_score.mean()\n",
    "    print(f\"At cross fold {j} the cv score is {cv_mean}\")\n",
    "    print(f\"accuracy score for training is {train_accuracy}\")\n",
    "    print(f\"accuracy score for testing is {test_accuracy}\")\n",
    "    print(\"\\n\")"
   ]
  },
  {
   "cell_type": "code",
   "execution_count": 59,
   "id": "33e69d96",
   "metadata": {},
   "outputs": [
    {
     "data": {
      "image/png": "[encoded data removed]",
      "text/plain": [
       "<Figure size 1440x1080 with 1 Axes>"
      ]
     },
     "metadata": {
      "needs_background": "light"
     },
     "output_type": "display_data"
    }
   ],
   "source": [
    "plt.figure(figsize=(20,15))\n",
    "plt.scatter(x=y_test, y=pred_test, color='r')\n",
    "plt.plot(y_test,y_test,color='b')\n",
    "plt.xlabel('Actual Sales', fontsize=14)\n",
    "plt.ylabel('Predicted charges', fontsize=14)\n",
    "plt.title('Linear Regression',fontsize=18)\n",
    "plt.show()"
   ]
  },
  {
   "cell_type": "code",
   "execution_count": 60,
   "id": "fae98011",
   "metadata": {},
   "outputs": [],
   "source": [
    "from sklearn.model_selection import train_test_split\n",
    "from sklearn.linear_model import LinearRegression\n",
    "from sklearn.linear_model import Lasso,Ridge,ElasticNet\n",
    "from sklearn.svm import SVR\n",
    "from sklearn.tree import DecisionTreeRegressor\n",
    "from sklearn.ensemble import RandomForestRegressor\n",
    "from sklearn.neighbors import KNeighborsRegressor\n",
    "from sklearn.linear_model import SGDRegressor\n",
    "from sklearn.ensemble import AdaBoostRegressor\n",
    "from sklearn.ensemble import ExtraTreesRegressor\n",
    "from sklearn.ensemble import GradientBoostingRegressor\n",
    "\n",
    "from sklearn.model_selection import cross_val_score\n",
    "from sklearn.model_selection import GridSearchCV"
   ]
  },
  {
   "cell_type": "code",
   "execution_count": 61,
   "id": "3cf90aa3",
   "metadata": {},
   "outputs": [],
   "source": [
    "def regressor(model, x, y):\n",
    "    x_train, x_test, y_train, y_test = train_test_split(x, y, test_size=0.2, random_state=111)\n",
    "    \n",
    "    # Training the model\n",
    "    model.fit(x_train, y_train)\n",
    "    \n",
    "    # Predicting y_test\n",
    "    pred = model.predict(x_test)\n",
    "    \n",
    "    # Root Mean Square Error (RMSE)\n",
    "    rmse = mean_squared_error(y_test, pred, squared=False)\n",
    "    print(\"Root Mean Square Error is:\", rmse)\n",
    "    \n",
    "    # R2 score\n",
    "    r2 = r2_score(y_test, pred, multioutput='variance_weighted')*100\n",
    "    print(\"R2 Score is:\", r2)\n",
    "    \n",
    "    # Cross Validation Score\n",
    "    cv_score = (cross_val_score(model, x, y, cv=5).mean())*100\n",
    "    print(\"Cross Validation Score is:\", cv_score)\n",
    "    \n",
    "    # Result of r2 score - cv score\n",
    "    result = r2 - cv_score\n",
    "    print(\"R2 Score - Cross Validation Score is\", result)"
   ]
  },
  {
   "cell_type": "markdown",
   "id": "695ec42c",
   "metadata": {},
   "source": [
    "Tuning parameter for better results"
   ]
  },
  {
   "cell_type": "markdown",
   "id": "f55b2907",
   "metadata": {},
   "source": [
    "Linear Regression"
   ]
  },
  {
   "cell_type": "code",
   "execution_count": 62,
   "id": "6acb0bcc",
   "metadata": {},
   "outputs": [
    {
     "name": "stdout",
     "output_type": "stream",
     "text": [
      "Root Mean Square Error is: 1.55910533603371\n",
      "R2 Score is: 93.08514560867515\n",
      "Cross Validation Score is: 88.65340711347679\n",
      "R2 Score - Cross Validation Score is 4.43173849519836\n"
     ]
    }
   ],
   "source": [
    "model=LinearRegression()\n",
    "regressor(model, x, y)"
   ]
  },
  {
   "cell_type": "markdown",
   "id": "c92fa068",
   "metadata": {},
   "source": [
    "L1 -- Lasso Regression"
   ]
  },
  {
   "cell_type": "code",
   "execution_count": 63,
   "id": "88d4f8a9",
   "metadata": {},
   "outputs": [
    {
     "name": "stdout",
     "output_type": "stream",
     "text": [
      "Root Mean Square Error is: 1.55915193928126\n",
      "R2 Score is: 93.08473221840602\n",
      "Cross Validation Score is: 88.65363616365156\n",
      "R2 Score - Cross Validation Score is 4.431096054754462\n"
     ]
    }
   ],
   "source": [
    "model=Lasso(alpha=0.0001)\n",
    "regressor(model, x, y)"
   ]
  },
  {
   "cell_type": "markdown",
   "id": "e1d5bf55",
   "metadata": {},
   "source": [
    "L2 -- Ridge Regression"
   ]
  },
  {
   "cell_type": "code",
   "execution_count": 64,
   "id": "b0d0ee1b",
   "metadata": {},
   "outputs": [
    {
     "name": "stdout",
     "output_type": "stream",
     "text": [
      "Root Mean Square Error is: 1.5591065320161197\n",
      "R2 Score is: 93.08513499996616\n",
      "Cross Validation Score is: 88.6534079856434\n",
      "R2 Score - Cross Validation Score is 4.43172701432276\n"
     ]
    }
   ],
   "source": [
    "model=Ridge(alpha=0.0001)\n",
    "regressor(model, x, y)"
   ]
  },
  {
   "cell_type": "markdown",
   "id": "7cc3594b",
   "metadata": {},
   "source": [
    "Support Vector Regression"
   ]
  },
  {
   "cell_type": "code",
   "execution_count": 65,
   "id": "c40d5ab4",
   "metadata": {},
   "outputs": [
    {
     "name": "stdout",
     "output_type": "stream",
     "text": [
      "Root Mean Square Error is: 2.2384265139588995\n",
      "R2 Score is: 85.74662188425226\n",
      "Cross Validation Score is: 89.72383913388425\n",
      "R2 Score - Cross Validation Score is -3.977217249631991\n"
     ]
    }
   ],
   "source": [
    "model=SVR(kernel='rbf')\n",
    "regressor(model, x, y)"
   ]
  },
  {
   "cell_type": "code",
   "execution_count": 66,
   "id": "7f6ab664",
   "metadata": {},
   "outputs": [
    {
     "name": "stdout",
     "output_type": "stream",
     "text": [
      "Root Mean Square Error is: 2.3889751767011314\n",
      "R2 Score is: 83.76488393148054\n",
      "Cross Validation Score is: 75.89374973053775\n",
      "R2 Score - Cross Validation Score is 7.871134200942791\n"
     ]
    }
   ],
   "source": [
    "model=SVR(kernel='poly')\n",
    "regressor(model, x, y)"
   ]
  },
  {
   "cell_type": "code",
   "execution_count": 67,
   "id": "ec5d0bfe",
   "metadata": {
    "scrolled": true
   },
   "outputs": [
    {
     "name": "stdout",
     "output_type": "stream",
     "text": [
      "Root Mean Square Error is: 1.530683736379888\n",
      "R2 Score is: 93.33495541011429\n",
      "Cross Validation Score is: 87.81233391537187\n",
      "R2 Score - Cross Validation Score is 5.522621494742424\n"
     ]
    }
   ],
   "source": [
    "model=SVR(kernel='linear')\n",
    "regressor(model, x, y)"
   ]
  },
  {
   "cell_type": "markdown",
   "id": "deeaf2e9",
   "metadata": {},
   "source": [
    "Decision Tree Regressor"
   ]
  },
  {
   "cell_type": "code",
   "execution_count": 68,
   "id": "bb907e43",
   "metadata": {},
   "outputs": [
    {
     "name": "stdout",
     "output_type": "stream",
     "text": [
      "Root Mean Square Error is: 1.4421338356754552\n",
      "R2 Score is: 94.0837944219903\n",
      "Cross Validation Score is: 95.20677259356403\n",
      "R2 Score - Cross Validation Score is -1.1229781715737204\n"
     ]
    }
   ],
   "source": [
    "model=DecisionTreeRegressor(random_state=111)\n",
    "regressor(model, x, y)"
   ]
  },
  {
   "cell_type": "markdown",
   "id": "b53695cd",
   "metadata": {},
   "source": [
    "Random Forest Regressor"
   ]
  },
  {
   "cell_type": "code",
   "execution_count": 69,
   "id": "67bbdadd",
   "metadata": {
    "scrolled": true
   },
   "outputs": [
    {
     "name": "stdout",
     "output_type": "stream",
     "text": [
      "Root Mean Square Error is: 0.9723140696297625\n",
      "R2 Score is: 97.3106627711261\n",
      "Cross Validation Score is: 97.48292302756482\n",
      "R2 Score - Cross Validation Score is -0.17226025643871878\n"
     ]
    }
   ],
   "source": [
    "model=RandomForestRegressor()\n",
    "regressor(model, x, y)"
   ]
  },
  {
   "cell_type": "markdown",
   "id": "1daaffb9",
   "metadata": {},
   "source": [
    "K Neighbors Regressor"
   ]
  },
  {
   "cell_type": "code",
   "execution_count": 70,
   "id": "96f4836f",
   "metadata": {},
   "outputs": [
    {
     "name": "stdout",
     "output_type": "stream",
     "text": [
      "Root Mean Square Error is: 1.2017903311310172\n",
      "R2 Score is: 95.89144093457416\n",
      "Cross Validation Score is: 93.16244923714243\n",
      "R2 Score - Cross Validation Score is 2.728991697431738\n"
     ]
    }
   ],
   "source": [
    "model=KNeighborsRegressor()\n",
    "regressor(model, x, y)"
   ]
  },
  {
   "cell_type": "markdown",
   "id": "006396af",
   "metadata": {},
   "source": [
    "SGD Regressor"
   ]
  },
  {
   "cell_type": "code",
   "execution_count": 71,
   "id": "b00084cc",
   "metadata": {},
   "outputs": [
    {
     "name": "stdout",
     "output_type": "stream",
     "text": [
      "Root Mean Square Error is: 32195916605.78615\n",
      "R2 Score is: -2.9487211934584264e+21\n",
      "Cross Validation Score is: -5.034635368245383e+24\n",
      "R2 Score - Cross Validation Score is 5.031686647051925e+24\n"
     ]
    }
   ],
   "source": [
    "model=SGDRegressor(penalty='l1', learning_rate='optimal')\n",
    "regressor(model, x, y)"
   ]
  },
  {
   "cell_type": "markdown",
   "id": "e2293164",
   "metadata": {},
   "source": [
    "Gradient Boosting Regressor"
   ]
  },
  {
   "cell_type": "code",
   "execution_count": 72,
   "id": "5a6bab0c",
   "metadata": {},
   "outputs": [
    {
     "name": "stdout",
     "output_type": "stream",
     "text": [
      "Root Mean Square Error is: 0.8481938414815041\n",
      "R2 Score is: 97.95345002940957\n",
      "Cross Validation Score is: 97.74341132578861\n",
      "R2 Score - Cross Validation Score is 0.21003870362095256\n"
     ]
    }
   ],
   "source": [
    "model=GradientBoostingRegressor()\n",
    "regressor(model, x, y)"
   ]
  },
  {
   "cell_type": "markdown",
   "id": "2f339e95",
   "metadata": {},
   "source": [
    "# Hypertuning"
   ]
  },
  {
   "cell_type": "code",
   "execution_count": 73,
   "id": "eee39d80",
   "metadata": {},
   "outputs": [],
   "source": [
    "from sklearn.model_selection import GridSearchCV"
   ]
  },
  {
   "cell_type": "code",
   "execution_count": 74,
   "id": "ef96ca26",
   "metadata": {},
   "outputs": [
    {
     "data": {
      "text/plain": [
       "<bound method BaseEstimator.get_params of RandomForestRegressor()>"
      ]
     },
     "execution_count": 74,
     "metadata": {},
     "output_type": "execute_result"
    }
   ],
   "source": [
    "RandomForestRegressor().get_params"
   ]
  },
  {
   "cell_type": "code",
   "execution_count": 75,
   "id": "8667c811",
   "metadata": {},
   "outputs": [],
   "source": [
    "param_grid = { \n",
    "    'n_estimators': [200, 500],\n",
    "    'max_features': ['auto', 'sqrt', 'log2'],\n",
    "    'max_depth' : [4,5,6,7,8],\n",
    "    'criterion' :['mse', 'mae']\n",
    "}"
   ]
  },
  {
   "cell_type": "code",
   "execution_count": 76,
   "id": "3e5aad12",
   "metadata": {},
   "outputs": [
    {
     "data": {
      "text/plain": [
       "GridSearchCV(cv=5, estimator=RandomForestRegressor(),\n",
       "             param_grid={'criterion': ['mse', 'mae'],\n",
       "                         'max_depth': [4, 5, 6, 7, 8],\n",
       "                         'max_features': ['auto', 'sqrt', 'log2'],\n",
       "                         'n_estimators': [200, 500]})"
      ]
     },
     "execution_count": 76,
     "metadata": {},
     "output_type": "execute_result"
    }
   ],
   "source": [
    "GCV = GridSearchCV(estimator = RandomForestRegressor(), param_grid = param_grid, cv = 5)\n",
    "GCV.fit(x_train, y_train)"
   ]
  },
  {
   "cell_type": "code",
   "execution_count": 77,
   "id": "91aeb324",
   "metadata": {},
   "outputs": [
    {
     "data": {
      "text/plain": [
       "{'criterion': 'mae',\n",
       " 'max_depth': 8,\n",
       " 'max_features': 'auto',\n",
       " 'n_estimators': 500}"
      ]
     },
     "execution_count": 77,
     "metadata": {},
     "output_type": "execute_result"
    }
   ],
   "source": [
    "GCV.best_params_"
   ]
  },
  {
   "cell_type": "code",
   "execution_count": 78,
   "id": "2b3a0c13",
   "metadata": {},
   "outputs": [
    {
     "name": "stdout",
     "output_type": "stream",
     "text": [
      "0.9756137887273133\n",
      "0.8572593062500093\n"
     ]
    }
   ],
   "source": [
    "rfr = RandomForestRegressor(random_state=42, max_features='auto', n_estimators= 200, max_depth=8, criterion='mae')\n",
    "rfr.fit(x_train, y_train)\n",
    "predrfr = rfr.predict(x_test)\n",
    "print (r2_score(y_test, predrfr))\n",
    "print (mean_squared_error(y_test, predrfr))"
   ]
  },
  {
   "cell_type": "code",
   "execution_count": 79,
   "id": "4c3d7bcc",
   "metadata": {},
   "outputs": [
    {
     "name": "stdout",
     "output_type": "stream",
     "text": [
      "Cross Validation Score for Random forest model after hypertuning is : 0.9759369422241158\n"
     ]
    }
   ],
   "source": [
    "cvs = cross_val_score(rfr, x, y, cv = 5)\n",
    "print ('Cross Validation Score for Random forest model after hypertuning is :', cvs.mean())"
   ]
  },
  {
   "cell_type": "code",
   "execution_count": null,
   "id": "f1c5e7f7",
   "metadata": {},
   "outputs": [],
   "source": []
  },
  {
   "cell_type": "code",
   "execution_count": null,
   "id": "62e4ab1d",
   "metadata": {},
   "outputs": [],
   "source": []
  }
 ],
 "metadata": {
  "kernelspec": {
   "display_name": "Python 3 (ipykernel)",
   "language": "python",
   "name": "python3"
  },
  "language_info": {
   "codemirror_mode": {
    "name": "ipython",
    "version": 3
   },
   "file_extension": ".py",
   "mimetype": "text/x-python",
   "name": "python",
   "nbconvert_exporter": "python",
   "pygments_lexer": "ipython3",
   "version": "3.9.7"
  }
 },
 "nbformat": 4,
 "nbformat_minor": 5
}
